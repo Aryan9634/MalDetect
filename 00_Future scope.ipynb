{
 "cells": [
  {
   "cell_type": "markdown",
   "id": "7def5153",
   "metadata": {},
   "source": [
    "### For Balancing imbalanced data"
   ]
  },
  {
   "cell_type": "code",
   "execution_count": 2,
   "id": "95742e99",
   "metadata": {},
   "outputs": [],
   "source": [
    "from imblearn.over_sampling import RandomOverSampler\n",
    "from imblearn.under_sampling import RandomUnderSampler\n",
    "from imblearn.combine import SMOTEENN\n",
    "from imblearn.pipeline import make_pipeline"
   ]
  },
  {
   "cell_type": "code",
   "execution_count": 91,
   "id": "1d2509a7",
   "metadata": {},
   "outputs": [
    {
     "data": {
      "text/plain": [
       "{'BENIGN': 200000,\n",
       " 'DoS slowloris': 200000,\n",
       " 'DoS Slowhttptest': 100000,\n",
       " 'DoS Hulk': 50000,\n",
       " 'DoS GoldenEye': 50000,\n",
       " 'Heartbleed': 25000}"
      ]
     },
     "execution_count": 91,
     "metadata": {},
     "output_type": "execute_result"
    }
   ],
   "source": [
    "samples = [200000,200000,100000,50000,50000,25000]\n",
    "sampling_strategy = dict(zip(y.unique(),samples))\n",
    "sampling_strategy"
   ]
  },
  {
   "cell_type": "code",
   "execution_count": 1,
   "id": "f6e6d5ba",
   "metadata": {},
   "outputs": [],
   "source": [
    "pipeline = make_pipeline( \n",
    "    SMOTEENN(),  \n",
    "    RandomOverSampler(sampling_strategy=sampling_strategy)\n",
    ")\n",
    "X_balanced, y_balanced = pipeline.fit_resample(X, y)"
   ]
  },
  {
   "cell_type": "code",
   "execution_count": null,
   "id": "431f0c01",
   "metadata": {},
   "outputs": [],
   "source": [
    "X = X_balanced\n",
    "y = y_balanced\n",
    "X.shape, y.shape"
   ]
  },
  {
   "cell_type": "markdown",
   "id": "55d87b41",
   "metadata": {},
   "source": [
    "### Hyperparamter optimization "
   ]
  },
  {
   "cell_type": "markdown",
   "id": "9fc60d0e",
   "metadata": {},
   "source": [
    "### Stratified training for all model "
   ]
  },
  {
   "cell_type": "markdown",
   "id": "2e7453e8",
   "metadata": {},
   "source": [
    "### Hyperparamter optimization in neural network "
   ]
  },
  {
   "cell_type": "markdown",
   "id": "9bfd3586",
   "metadata": {},
   "source": [
    "need more computational power"
   ]
  },
  {
   "cell_type": "markdown",
   "id": "9b617b65",
   "metadata": {},
   "source": [
    "# Note: actual project starts from 01_Data Exploration_and_Preprocessing "
   ]
  },
  {
   "cell_type": "code",
   "execution_count": null,
   "id": "488ed2e1",
   "metadata": {},
   "outputs": [],
   "source": []
  }
 ],
 "metadata": {
  "kernelspec": {
   "display_name": "Python 3 (ipykernel)",
   "language": "python",
   "name": "python3"
  },
  "language_info": {
   "codemirror_mode": {
    "name": "ipython",
    "version": 3
   },
   "file_extension": ".py",
   "mimetype": "text/x-python",
   "name": "python",
   "nbconvert_exporter": "python",
   "pygments_lexer": "ipython3",
   "version": "3.10.0"
  }
 },
 "nbformat": 4,
 "nbformat_minor": 5
}
