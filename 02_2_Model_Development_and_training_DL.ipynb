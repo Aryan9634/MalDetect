{
 "cells": [
  {
   "cell_type": "markdown",
   "id": "8eb8295c",
   "metadata": {},
   "source": [
    "### Importing required modules"
   ]
  },
  {
   "cell_type": "code",
   "execution_count": 154,
   "id": "805c081b",
   "metadata": {},
   "outputs": [],
   "source": [
    "import numpy as np\n",
    "import matplotlib.pyplot as plt\n",
    "import seaborn as sns\n",
    "\n",
    "import torch\n",
    "from torch.utils.data import TensorDataset,random_split,DataLoader\n",
    "import torch.nn.functional as F\n",
    "import torch.nn as nn\n",
    "from sklearn.metrics import confusion_matrix, accuracy_score, precision_score, recall_score, f1_score, classification_report\n",
    "\n",
    "import pickle"
   ]
  },
  {
   "cell_type": "markdown",
   "id": "a745e1a9",
   "metadata": {},
   "source": [
    "### Loading data"
   ]
  },
  {
   "cell_type": "code",
   "execution_count": 2,
   "id": "40aa4158",
   "metadata": {},
   "outputs": [],
   "source": [
    "file_path = 'C:\\Data\\Study\\Ai_adventures\\Projects\\Deep _Learning\\Android-Malware Detection\\outputs\\processed_data.pkl'\n",
    "with open(file_path, 'rb') as file:\n",
    "    data = pickle.load(file)"
   ]
  },
  {
   "cell_type": "code",
   "execution_count": 3,
   "id": "e3c4c45a",
   "metadata": {},
   "outputs": [],
   "source": [
    "X = data[\"features\"]\n",
    "y = data[\"targets\"]"
   ]
  },
  {
   "cell_type": "markdown",
   "id": "dc7ff7d8",
   "metadata": {},
   "source": [
    "- Creating Tesnor dataset"
   ]
  },
  {
   "cell_type": "code",
   "execution_count": 4,
   "id": "e1ac3d3d",
   "metadata": {},
   "outputs": [],
   "source": [
    "def Dataset(X,y):\n",
    "    features = X.to_numpy()\n",
    "    labels = y.to_numpy()\n",
    "\n",
    "    features_tensor = torch.tensor(features)\n",
    "    labels_numeric = np.where(labels==\"MALWARE\",1,0).reshape(-1,1)\n",
    "    labels_tensor = torch.tensor(labels_numeric,dtype=torch.float32)\n",
    "\n",
    "    data = TensorDataset(features_tensor,labels_tensor)\n",
    "    return data"
   ]
  },
  {
   "cell_type": "code",
   "execution_count": 5,
   "id": "f49c8d61",
   "metadata": {},
   "outputs": [
    {
     "data": {
      "text/plain": [
       "<torch.utils.data.dataset.TensorDataset at 0x1a3fe533ee0>"
      ]
     },
     "execution_count": 5,
     "metadata": {},
     "output_type": "execute_result"
    }
   ],
   "source": [
    "data = Dataset(X,y)\n",
    "data"
   ]
  },
  {
   "cell_type": "code",
   "execution_count": 6,
   "id": "da790057",
   "metadata": {},
   "outputs": [
    {
     "data": {
      "text/plain": [
       "610492"
      ]
     },
     "execution_count": 6,
     "metadata": {},
     "output_type": "execute_result"
    }
   ],
   "source": [
    "len(data)"
   ]
  },
  {
   "cell_type": "markdown",
   "id": "b17c232b",
   "metadata": {},
   "source": [
    "- Splitting data"
   ]
  },
  {
   "cell_type": "code",
   "execution_count": 7,
   "id": "67e90ba0",
   "metadata": {},
   "outputs": [],
   "source": [
    "train_ds, val_ds, test_ds = random_split(data,[len(data)-15000,10000,5000])"
   ]
  },
  {
   "cell_type": "markdown",
   "id": "536a8ad1",
   "metadata": {},
   "source": [
    "- Data Loaders"
   ]
  },
  {
   "cell_type": "code",
   "execution_count": 34,
   "id": "4319c8e3",
   "metadata": {},
   "outputs": [],
   "source": [
    "batch_size = 10000\n",
    "train_dl = DataLoader(train_ds,batch_size,shuffle=True)\n",
    "val_dl = DataLoader(val_ds,batch_size)\n",
    "test_dl = DataLoader(test_ds,batch_size)"
   ]
  },
  {
   "cell_type": "code",
   "execution_count": 35,
   "id": "21c83898",
   "metadata": {},
   "outputs": [
    {
     "name": "stdout",
     "output_type": "stream",
     "text": [
      "tensor([[4.4300e+02, 1.1776e+08, 6.0000e+00,  ..., 2.9684e+04, 5.8600e+07,\n",
      "         5.8500e+07],\n",
      "        [8.0000e+01, 6.3128e+07, 2.0000e+00,  ..., 0.0000e+00, 6.3100e+07,\n",
      "         6.3100e+07],\n",
      "        [8.0000e+01, 3.6995e+04, 1.0000e+00,  ..., 0.0000e+00, 0.0000e+00,\n",
      "         0.0000e+00],\n",
      "        ...,\n",
      "        [5.3000e+01, 6.0978e+04, 1.0000e+00,  ..., 0.0000e+00, 0.0000e+00,\n",
      "         0.0000e+00],\n",
      "        [5.3000e+01, 2.3561e+04, 1.0000e+00,  ..., 0.0000e+00, 0.0000e+00,\n",
      "         0.0000e+00],\n",
      "        [5.3000e+01, 4.6064e+05, 1.0000e+00,  ..., 0.0000e+00, 0.0000e+00,\n",
      "         0.0000e+00]], dtype=torch.float64) tensor([[0.],\n",
      "        [1.],\n",
      "        [0.],\n",
      "        ...,\n",
      "        [0.],\n",
      "        [0.],\n",
      "        [0.]])\n"
     ]
    }
   ],
   "source": [
    "for xb,yb in train_dl:\n",
    "    print(xb,yb)\n",
    "    break"
   ]
  },
  {
   "cell_type": "code",
   "execution_count": 36,
   "id": "037e6517",
   "metadata": {},
   "outputs": [
    {
     "name": "stdout",
     "output_type": "stream",
     "text": [
      "torch.Size([10000, 78]) tensor([[0.],\n",
      "        [0.],\n",
      "        [0.],\n",
      "        ...,\n",
      "        [1.],\n",
      "        [0.],\n",
      "        [0.]])\n"
     ]
    }
   ],
   "source": [
    "for batch in train_dl:\n",
    "    features,labels = batch\n",
    "    print(features.shape,labels)\n",
    "    break"
   ]
  },
  {
   "cell_type": "markdown",
   "id": "66ada760",
   "metadata": {},
   "source": [
    "- Model building "
   ]
  },
  {
   "cell_type": "code",
   "execution_count": 37,
   "id": "e1f97ce8",
   "metadata": {},
   "outputs": [],
   "source": [
    "def accuracy(outputs,actuals):\n",
    "    _,preds = torch.max(outputs,dim=1)\n",
    "    acc = torch.tensor(torch.sum(preds==actuals).item()/len(preds))\n",
    "    return acc\n",
    "\n",
    "class LogisticRegression(nn.Module):\n",
    "    def training_step(self,batch):\n",
    "        features,labels = batch\n",
    "        outputs = self(features)\n",
    "        loss = F.cross_entropy(outputs,labels.squeeze().long())\n",
    "        return loss\n",
    "    def validation_step(self,batch):\n",
    "        features,labels = batch\n",
    "        outputs = self(features)\n",
    "        loss = F.cross_entropy(outputs,labels.squeeze().long())\n",
    "        acc = accuracy(outputs,labels.squeeze().long())\n",
    "        return {\"val loss\":loss.detach(),\"val acc\":acc}\n",
    "    def validation_epoch_end(self,outputs):\n",
    "        batch_loss = [x[\"val loss\"] for x in outputs]\n",
    "        epoch_loss = torch.stack(batch_loss).mean()\n",
    "        batch_acc = [x[\"val acc\"] for x in outputs]\n",
    "        epoch_acc = torch.stack(batch_acc).mean()\n",
    "        return {\"val loss\":epoch_loss.item(),\"val acc\":epoch_acc.item()}\n",
    "    def epoch_end(self, epoch_num, results, fit_one_cycle=False):\n",
    "        if fit_one_cycle:\n",
    "            print(\"Epoch [{}], last_lr: {:.5f}, train loss: {:.4f}, val loss: {:.4f}, val acc: {:.4f}\".format(\n",
    "                epoch_num, results['lrs'][-1], results['train loss'], results['val loss'], results['val acc']))\n",
    "        else:\n",
    "            print(\"Epoch[{}] -> TRAIN LOSS : {:.4f} | VALIDATION LOSS : {:.4f} | VALIDATION ACC : {:.4f}\".format(\n",
    "                epoch_num, results[\"train loss\"], results[\"val loss\"], results[\"val acc\"]))\n",
    "    @torch.no_grad()\n",
    "    def evaluate(self,val_dl):\n",
    "        self.eval()\n",
    "        outputs = [self.validation_step(batch) for batch in val_dl]\n",
    "        return self.validation_epoch_end(outputs)"
   ]
  },
  {
   "cell_type": "code",
   "execution_count": 38,
   "id": "4c13df5a",
   "metadata": {},
   "outputs": [],
   "source": [
    "def linear_block(in_channels, out_channels):\n",
    "    layers = [\n",
    "        nn.Linear(in_channels, out_channels),\n",
    "        nn.BatchNorm1d(out_channels),\n",
    "        nn.ReLU(inplace=True)\n",
    "    ]\n",
    "    return nn.Sequential(*layers)\n",
    "\n",
    "class NetworkArchitecture(LogisticRegression):\n",
    "    def __init__(self):\n",
    "        super().__init__()\n",
    "        self.linear1 = linear_block(len(train_ds[0][0]), 50)\n",
    "        self.linear2 = linear_block(50, 25)\n",
    "        self.linear3 = linear_block(25, 10)\n",
    "        self.classifier = nn.Linear(10, 2)\n",
    "    \n",
    "    def forward(self, xb):\n",
    "        out = self.linear1(xb.float())\n",
    "        out = self.linear2(out)\n",
    "        out = self.linear3(out)\n",
    "        out = self.classifier(out)\n",
    "        return out   "
   ]
  },
  {
   "cell_type": "code",
   "execution_count": 39,
   "id": "0f28e372",
   "metadata": {},
   "outputs": [
    {
     "data": {
      "text/plain": [
       "NetworkArchitecture(\n",
       "  (linear1): Sequential(\n",
       "    (0): Linear(in_features=78, out_features=50, bias=True)\n",
       "    (1): BatchNorm1d(50, eps=1e-05, momentum=0.1, affine=True, track_running_stats=True)\n",
       "    (2): ReLU(inplace=True)\n",
       "  )\n",
       "  (linear2): Sequential(\n",
       "    (0): Linear(in_features=50, out_features=25, bias=True)\n",
       "    (1): BatchNorm1d(25, eps=1e-05, momentum=0.1, affine=True, track_running_stats=True)\n",
       "    (2): ReLU(inplace=True)\n",
       "  )\n",
       "  (linear3): Sequential(\n",
       "    (0): Linear(in_features=25, out_features=10, bias=True)\n",
       "    (1): BatchNorm1d(10, eps=1e-05, momentum=0.1, affine=True, track_running_stats=True)\n",
       "    (2): ReLU(inplace=True)\n",
       "  )\n",
       "  (classifier): Linear(in_features=10, out_features=2, bias=True)\n",
       ")"
      ]
     },
     "execution_count": 39,
     "metadata": {},
     "output_type": "execute_result"
    }
   ],
   "source": [
    "model_f = NetworkArchitecture()\n",
    "model_foc = NetworkArchitecture()\n",
    "model_f"
   ]
  },
  {
   "cell_type": "markdown",
   "id": "9d17f6c7",
   "metadata": {},
   "source": [
    "- Training using fit"
   ]
  },
  {
   "cell_type": "code",
   "execution_count": 40,
   "id": "3c622a16",
   "metadata": {},
   "outputs": [],
   "source": [
    "def fit(epoch_num,lr,model,train_dl,val_dl,optim_func):\n",
    "    optimizer = optim_func(model.parameters(),lr)\n",
    "    history = []\n",
    "    for epoch in range(epoch_num):\n",
    "        train_losses = []\n",
    "        for batch in train_dl:\n",
    "            loss = model.training_step(batch)\n",
    "            train_losses.append(loss)\n",
    "            loss.backward()\n",
    "            optimizer.step()\n",
    "            optimizer.zero_grad()\n",
    "        results = model.evaluate(val_dl)\n",
    "        results[\"train loss\"] = torch.stack(train_losses).mean()\n",
    "        model.epoch_end(epoch,results)\n",
    "        history.append(results)\n",
    "    return history"
   ]
  },
  {
   "cell_type": "code",
   "execution_count": 41,
   "id": "c9166393",
   "metadata": {},
   "outputs": [
    {
     "data": {
      "text/plain": [
       "{'val loss': 694025.1875, 'val acc': 0.32100000977516174}"
      ]
     },
     "execution_count": 41,
     "metadata": {},
     "output_type": "execute_result"
    }
   ],
   "source": [
    "model_f.evaluate(val_dl)"
   ]
  },
  {
   "cell_type": "code",
   "execution_count": 42,
   "id": "b700c017",
   "metadata": {},
   "outputs": [],
   "source": [
    "num_epochs = 15\n",
    "opt_func = torch.optim.Adam\n",
    "lr = 0.001"
   ]
  },
  {
   "cell_type": "code",
   "execution_count": 43,
   "id": "35a2a59a",
   "metadata": {
    "scrolled": true
   },
   "outputs": [
    {
     "name": "stdout",
     "output_type": "stream",
     "text": [
      "Epoch[0] -> TRAIN LOSS : 57888.6094 | VALIDATION LOSS : 2572.4312 | VALIDATION ACC : 0.8786\n",
      "Epoch[1] -> TRAIN LOSS : 3879.0896 | VALIDATION LOSS : 3626.9849 | VALIDATION ACC : 0.8977\n",
      "Epoch[2] -> TRAIN LOSS : 3865.6062 | VALIDATION LOSS : 4876.8638 | VALIDATION ACC : 0.8010\n",
      "Epoch[3] -> TRAIN LOSS : 2983.6912 | VALIDATION LOSS : 3902.2024 | VALIDATION ACC : 0.9058\n",
      "Epoch[4] -> TRAIN LOSS : 2475.3633 | VALIDATION LOSS : 1191.9596 | VALIDATION ACC : 0.9358\n",
      "Epoch[5] -> TRAIN LOSS : 2618.4976 | VALIDATION LOSS : 1354.7546 | VALIDATION ACC : 0.9448\n",
      "Epoch[6] -> TRAIN LOSS : 1959.2599 | VALIDATION LOSS : 2440.4041 | VALIDATION ACC : 0.9378\n",
      "Epoch[7] -> TRAIN LOSS : 2168.3083 | VALIDATION LOSS : 1882.2913 | VALIDATION ACC : 0.9325\n",
      "Epoch[8] -> TRAIN LOSS : 2034.8658 | VALIDATION LOSS : 1476.7072 | VALIDATION ACC : 0.9453\n",
      "Epoch[9] -> TRAIN LOSS : 956.1481 | VALIDATION LOSS : 2680.8657 | VALIDATION ACC : 0.9512\n",
      "Epoch[10] -> TRAIN LOSS : 3768.1265 | VALIDATION LOSS : 5127.7163 | VALIDATION ACC : 0.9212\n",
      "Epoch[11] -> TRAIN LOSS : 2563.2563 | VALIDATION LOSS : 1351.0983 | VALIDATION ACC : 0.9209\n",
      "Epoch[12] -> TRAIN LOSS : 773.1803 | VALIDATION LOSS : 1978.1472 | VALIDATION ACC : 0.9378\n",
      "Epoch[13] -> TRAIN LOSS : 1823.6387 | VALIDATION LOSS : 2008.7625 | VALIDATION ACC : 0.9470\n",
      "Epoch[14] -> TRAIN LOSS : 2544.4949 | VALIDATION LOSS : 2094.3621 | VALIDATION ACC : 0.9428\n"
     ]
    }
   ],
   "source": [
    "history = fit(num_epochs, lr, model_f, train_dl, val_dl, opt_func)"
   ]
  },
  {
   "cell_type": "code",
   "execution_count": 44,
   "id": "621a6062",
   "metadata": {},
   "outputs": [],
   "source": [
    "def plot_accuracies(history):\n",
    "    accuracies = [x['val acc'] for x in history]\n",
    "    plt.plot(accuracies, '-x')\n",
    "    plt.xlabel('epoch')\n",
    "    plt.ylabel('accuracy')\n",
    "    plt.title('Accuracy vs. No. of epochs');"
   ]
  },
  {
   "cell_type": "code",
   "execution_count": 45,
   "id": "dba6ea02",
   "metadata": {},
   "outputs": [
    {
     "data": {
      "image/png": "[encoded data removed]",
      "text/plain": [
       "<Figure size 432x288 with 1 Axes>"
      ]
     },
     "metadata": {
      "needs_background": "light"
     },
     "output_type": "display_data"
    }
   ],
   "source": [
    "plot_accuracies(history)"
   ]
  },
  {
   "cell_type": "code",
   "execution_count": 46,
   "id": "b43f6d7d",
   "metadata": {},
   "outputs": [],
   "source": [
    "def plot_losses(history):\n",
    "    train_losses = [x.get('train loss').detach().numpy() for x in history]\n",
    "    val_losses = [x['val loss'].detach().numpy() if isinstance(x['val loss'], torch.Tensor) else x['val loss'] for x in history]\n",
    "    plt.plot(train_losses, '-bx')\n",
    "    plt.plot(val_losses, '-rx')\n",
    "    plt.xlabel('epoch')\n",
    "    plt.ylabel('loss')\n",
    "    plt.legend(['Training', 'Validation'])\n",
    "    plt.title('Loss vs. No. of epochs')\n",
    "    plt.show()"
   ]
  },
  {
   "cell_type": "code",
   "execution_count": 47,
   "id": "cf4a8ca0",
   "metadata": {
    "scrolled": true
   },
   "outputs": [
    {
     "data": {
      "image/png": "[encoded data removed]",
      "text/plain": [
       "<Figure size 432x288 with 1 Axes>"
      ]
     },
     "metadata": {
      "needs_background": "light"
     },
     "output_type": "display_data"
    }
   ],
   "source": [
    "plot_losses(history)"
   ]
  },
  {
   "cell_type": "markdown",
   "id": "8dbcf971",
   "metadata": {},
   "source": [
    "- Training using fit one cycle"
   ]
  },
  {
   "cell_type": "code",
   "execution_count": 48,
   "id": "2b8b1bac",
   "metadata": {},
   "outputs": [],
   "source": [
    "def get_lr(optimizer):\n",
    "    for param_group in optimizer.param_groups:\n",
    "        return param_group['lr']\n",
    "\n",
    "def fit_one_cycle(epochs, max_lr, model, train_loader, val_loader, \n",
    "                  weight_decay=0, grad_clip=None, opt_func=torch.optim.SGD):\n",
    "    torch.cuda.empty_cache()\n",
    "    history = []\n",
    "    \n",
    "    optimizer = opt_func(model.parameters(), max_lr, weight_decay=weight_decay)\n",
    "\n",
    "    sched = torch.optim.lr_scheduler.OneCycleLR(optimizer, max_lr, epochs=epochs, \n",
    "                                                steps_per_epoch=len(train_loader))\n",
    "    \n",
    "    for epoch in range(epochs): \n",
    "        model.train()\n",
    "        train_losses = []\n",
    "        lrs = []\n",
    "        for batch in train_loader:\n",
    "            loss = model.training_step(batch)\n",
    "            train_losses.append(loss)\n",
    "            loss.backward()\n",
    "            if grad_clip: \n",
    "                nn.utils.clip_grad_value_(model.parameters(), grad_clip)\n",
    "            optimizer.step()\n",
    "            optimizer.zero_grad()\n",
    "            lrs.append(get_lr(optimizer))\n",
    "            sched.step()\n",
    "        result = model.evaluate(val_loader)\n",
    "        result['train loss'] = torch.stack(train_losses).mean().item()\n",
    "        result['lrs'] = lrs\n",
    "        model.epoch_end(epoch, result)\n",
    "        history.append(result)\n",
    "    return history"
   ]
  },
  {
   "cell_type": "code",
   "execution_count": 49,
   "id": "8bd6f806",
   "metadata": {},
   "outputs": [
    {
     "data": {
      "text/plain": [
       "[{'val loss': 13508.802734375, 'val acc': 0.6309999823570251}]"
      ]
     },
     "execution_count": 49,
     "metadata": {},
     "output_type": "execute_result"
    }
   ],
   "source": [
    "history_foc = [model_foc.evaluate(val_dl)]\n",
    "history_foc"
   ]
  },
  {
   "cell_type": "code",
   "execution_count": 50,
   "id": "3c64e246",
   "metadata": {},
   "outputs": [],
   "source": [
    "epochs = 15\n",
    "max_lr = 0.01\n",
    "grad_clip = 0.1\n",
    "weight_decay = 1e-4\n",
    "opt_func = torch.optim.Adam"
   ]
  },
  {
   "cell_type": "code",
   "execution_count": 51,
   "id": "0a78fc89",
   "metadata": {},
   "outputs": [
    {
     "name": "stdout",
     "output_type": "stream",
     "text": [
      "Epoch[0] -> TRAIN LOSS : 0.4219 | VALIDATION LOSS : 0.3228 | VALIDATION ACC : 0.9235\n",
      "Epoch[1] -> TRAIN LOSS : 0.2332 | VALIDATION LOSS : 0.1750 | VALIDATION ACC : 0.9550\n",
      "Epoch[2] -> TRAIN LOSS : 0.1603 | VALIDATION LOSS : 0.3166 | VALIDATION ACC : 0.9324\n",
      "Epoch[3] -> TRAIN LOSS : 0.1596 | VALIDATION LOSS : 0.2080 | VALIDATION ACC : 0.9486\n",
      "Epoch[4] -> TRAIN LOSS : 0.1478 | VALIDATION LOSS : 0.1636 | VALIDATION ACC : 0.9522\n",
      "Epoch[5] -> TRAIN LOSS : 0.1443 | VALIDATION LOSS : 0.1474 | VALIDATION ACC : 0.9560\n",
      "Epoch[6] -> TRAIN LOSS : 0.1421 | VALIDATION LOSS : 0.1589 | VALIDATION ACC : 0.9543\n",
      "Epoch[7] -> TRAIN LOSS : 0.1362 | VALIDATION LOSS : 0.1278 | VALIDATION ACC : 0.9632\n",
      "Epoch[8] -> TRAIN LOSS : 0.1304 | VALIDATION LOSS : 0.1402 | VALIDATION ACC : 0.9625\n",
      "Epoch[9] -> TRAIN LOSS : 0.1278 | VALIDATION LOSS : 0.1442 | VALIDATION ACC : 0.9572\n",
      "Epoch[10] -> TRAIN LOSS : 0.1229 | VALIDATION LOSS : 0.1210 | VALIDATION ACC : 0.9631\n",
      "Epoch[11] -> TRAIN LOSS : 0.1181 | VALIDATION LOSS : 0.1187 | VALIDATION ACC : 0.9635\n",
      "Epoch[12] -> TRAIN LOSS : 0.1123 | VALIDATION LOSS : 0.1438 | VALIDATION ACC : 0.9640\n",
      "Epoch[13] -> TRAIN LOSS : 0.1081 | VALIDATION LOSS : 0.1090 | VALIDATION ACC : 0.9645\n",
      "Epoch[14] -> TRAIN LOSS : 0.1046 | VALIDATION LOSS : 0.1070 | VALIDATION ACC : 0.9649\n",
      "CPU times: total: 4min\n",
      "Wall time: 2min 16s\n"
     ]
    }
   ],
   "source": [
    "%%time\n",
    "history_foc += fit_one_cycle(epochs, max_lr, model_foc,\n",
    "                         train_dl, val_dl, \n",
    "                         grad_clip = grad_clip, \n",
    "                         weight_decay = weight_decay, \n",
    "                         opt_func = opt_func)"
   ]
  },
  {
   "cell_type": "code",
   "execution_count": 52,
   "id": "9b8bf925",
   "metadata": {},
   "outputs": [],
   "source": [
    "def plot_accuracies(history):\n",
    "    accuracies = [x['val acc'] for x in history]\n",
    "    plt.plot(accuracies, '-x')\n",
    "    plt.xlabel('epoch')\n",
    "    plt.ylabel('accuracy')\n",
    "    plt.title('Accuracy vs. No. of epochs');"
   ]
  },
  {
   "cell_type": "code",
   "execution_count": 53,
   "id": "2f1e492c",
   "metadata": {},
   "outputs": [
    {
     "data": {
      "image/png": "[encoded data removed]",
      "text/plain": [
       "<Figure size 432x288 with 1 Axes>"
      ]
     },
     "metadata": {
      "needs_background": "light"
     },
     "output_type": "display_data"
    }
   ],
   "source": [
    "plot_accuracies(history_foc)"
   ]
  },
  {
   "cell_type": "code",
   "execution_count": 54,
   "id": "e03be887",
   "metadata": {},
   "outputs": [],
   "source": [
    "def plot_losses(history):\n",
    "    train_losses = [x.get('train loss') for x in history]\n",
    "    val_losses = [x['val loss'] for x in history]\n",
    "    plt.plot(train_losses, '-bx')\n",
    "    plt.plot(val_losses, '-rx')\n",
    "    plt.xlabel('epoch')\n",
    "    plt.ylabel('loss')\n",
    "    plt.legend(['Training', 'Validation'])\n",
    "    plt.title('Loss vs. No. of epochs');"
   ]
  },
  {
   "cell_type": "code",
   "execution_count": 55,
   "id": "e4d219e6",
   "metadata": {},
   "outputs": [
    {
     "data": {
      "image/png": "[encoded data removed]",
      "text/plain": [
       "<Figure size 432x288 with 1 Axes>"
      ]
     },
     "metadata": {
      "needs_background": "light"
     },
     "output_type": "display_data"
    }
   ],
   "source": [
    "plot_losses(history_foc)"
   ]
  },
  {
   "cell_type": "code",
   "execution_count": 56,
   "id": "e68260a1",
   "metadata": {},
   "outputs": [],
   "source": [
    "def plot_lrs(history):\n",
    "    lrs = np.concatenate([x.get('lrs', []) for x in history])\n",
    "    plt.plot(lrs)\n",
    "    plt.xlabel('Batch no.')\n",
    "    plt.ylabel('Learning rate')\n",
    "    plt.title('Learning Rate vs. Batch no.');"
   ]
  },
  {
   "cell_type": "code",
   "execution_count": 57,
   "id": "812740c1",
   "metadata": {},
   "outputs": [
    {
     "data": {
      "image/png": "[encoded data removed]",
      "text/plain": [
       "<Figure size 432x288 with 1 Axes>"
      ]
     },
     "metadata": {
      "needs_background": "light"
     },
     "output_type": "display_data"
    }
   ],
   "source": [
    "plot_lrs(history_foc)"
   ]
  },
  {
   "cell_type": "markdown",
   "id": "2cc351a4",
   "metadata": {},
   "source": [
    "- Saving the w&b"
   ]
  },
  {
   "cell_type": "code",
   "execution_count": 58,
   "id": "d062587c",
   "metadata": {},
   "outputs": [],
   "source": [
    "folder_path = 'C:/Data/Study/Ai_adventures/Projects/Deep _Learning/Android-Malware Detection/models/'\n",
    "torch.save(model_foc.state_dict(), folder_path + 'model_weights.pth')"
   ]
  },
  {
   "cell_type": "markdown",
   "id": "528004ad",
   "metadata": {},
   "source": [
    "- Reloading the w&b"
   ]
  },
  {
   "cell_type": "code",
   "execution_count": 59,
   "id": "1b4b5e11",
   "metadata": {},
   "outputs": [],
   "source": [
    "model = NetworkArchitecture()"
   ]
  },
  {
   "cell_type": "code",
   "execution_count": 60,
   "id": "95ebe3c0",
   "metadata": {},
   "outputs": [
    {
     "data": {
      "text/plain": [
       "<All keys matched successfully>"
      ]
     },
     "execution_count": 60,
     "metadata": {},
     "output_type": "execute_result"
    }
   ],
   "source": [
    "folder_path = 'C:/Data/Study/Ai_adventures/Projects/Deep _Learning/Android-Malware Detection/models/'\n",
    "model_weights_path = folder_path + 'model_weights.pth'\n",
    "model.load_state_dict(torch.load(model_weights_path))"
   ]
  },
  {
   "cell_type": "code",
   "execution_count": 61,
   "id": "1b2fb601",
   "metadata": {},
   "outputs": [
    {
     "data": {
      "text/plain": [
       "NetworkArchitecture(\n",
       "  (linear1): Sequential(\n",
       "    (0): Linear(in_features=78, out_features=50, bias=True)\n",
       "    (1): BatchNorm1d(50, eps=1e-05, momentum=0.1, affine=True, track_running_stats=True)\n",
       "    (2): ReLU(inplace=True)\n",
       "  )\n",
       "  (linear2): Sequential(\n",
       "    (0): Linear(in_features=50, out_features=25, bias=True)\n",
       "    (1): BatchNorm1d(25, eps=1e-05, momentum=0.1, affine=True, track_running_stats=True)\n",
       "    (2): ReLU(inplace=True)\n",
       "  )\n",
       "  (linear3): Sequential(\n",
       "    (0): Linear(in_features=25, out_features=10, bias=True)\n",
       "    (1): BatchNorm1d(10, eps=1e-05, momentum=0.1, affine=True, track_running_stats=True)\n",
       "    (2): ReLU(inplace=True)\n",
       "  )\n",
       "  (classifier): Linear(in_features=10, out_features=2, bias=True)\n",
       ")"
      ]
     },
     "execution_count": 61,
     "metadata": {},
     "output_type": "execute_result"
    }
   ],
   "source": [
    "model"
   ]
  },
  {
   "cell_type": "markdown",
   "id": "652a5a25",
   "metadata": {},
   "source": [
    "- Making predictions"
   ]
  },
  {
   "cell_type": "code",
   "execution_count": 140,
   "id": "ef430656",
   "metadata": {},
   "outputs": [],
   "source": [
    "model.eval()\n",
    "predictions = []\n",
    "labels = []\n",
    "with torch.no_grad(): \n",
    "    for batch in test_dl:\n",
    "        inputs,target = batch\n",
    "        outputs = model(inputs)\n",
    "        predictions.append(outputs.max(axis=1)[1])\n",
    "        labels.append(target)\n",
    "        \n",
    "predictions = torch.cat(predictions, dim=0)\n",
    "predictions = predictions.view(-1, 1)  \n",
    "predictions = predictions.to(dtype=float)\n",
    "\n",
    "labels = torch.cat(labels, dim=0)"
   ]
  },
  {
   "cell_type": "code",
   "execution_count": 141,
   "id": "4d07a854",
   "metadata": {},
   "outputs": [
    {
     "data": {
      "text/plain": [
       "tensor([[1.],\n",
       "        [0.],\n",
       "        [0.],\n",
       "        [0.],\n",
       "        [0.]], dtype=torch.float64)"
      ]
     },
     "execution_count": 141,
     "metadata": {},
     "output_type": "execute_result"
    }
   ],
   "source": [
    "predictions[:5]"
   ]
  },
  {
   "cell_type": "code",
   "execution_count": 142,
   "id": "5a2880d7",
   "metadata": {},
   "outputs": [
    {
     "data": {
      "text/plain": [
       "tensor([[1.],\n",
       "        [0.],\n",
       "        [0.],\n",
       "        [0.],\n",
       "        [0.]])"
      ]
     },
     "execution_count": 142,
     "metadata": {},
     "output_type": "execute_result"
    }
   ],
   "source": [
    "labels[:5]"
   ]
  },
  {
   "cell_type": "markdown",
   "id": "9993a49e",
   "metadata": {},
   "source": [
    "- Model evaluation "
   ]
  },
  {
   "cell_type": "code",
   "execution_count": 148,
   "id": "2b8ed1f8",
   "metadata": {},
   "outputs": [
    {
     "name": "stdout",
     "output_type": "stream",
     "text": [
      "True Positives (TP): 1360\n",
      "False Positives (FP): 25\n",
      "False Negatives (FN): 165\n",
      "True Negatives (TN): 3450\n"
     ]
    }
   ],
   "source": [
    "y_pred_np = predictions.numpy().flatten()\n",
    "y_true_np = labels.numpy().flatten()\n",
    "\n",
    "TP = np.sum((y_true_np == 1) & (y_pred_np == 1))\n",
    "FP = np.sum((y_true_np == 0) & (y_pred_np == 1))\n",
    "FN = np.sum((y_true_np == 1) & (y_pred_np == 0))\n",
    "TN = np.sum((y_true_np == 0) & (y_pred_np == 0))\n",
    "conf_matrix = confusion_matrix(y_true_np, y_pred_np)\n",
    "\n",
    "print(\"True Positives (TP):\", TP)\n",
    "print(\"False Positives (FP):\", FP)\n",
    "print(\"False Negatives (FN):\", FN)\n",
    "print(\"True Negatives (TN):\", TN)"
   ]
  },
  {
   "cell_type": "code",
   "execution_count": 160,
   "id": "628bafd4",
   "metadata": {},
   "outputs": [
    {
     "data": {
      "image/png": "[encoded data removed]",
      "text/plain": [
       "<Figure size 288x288 with 1 Axes>"
      ]
     },
     "metadata": {},
     "output_type": "display_data"
    }
   ],
   "source": [
    "sns.set(font_scale=1)\n",
    "plt.figure(figsize=(4, 4))\n",
    "sns.heatmap(conf_matrix, annot=True, cmap=\"Blues\", fmt=\"d\", cbar=False,\n",
    "            xticklabels=[\"Predicted 0\", \"Predicted 1\"], yticklabels=[\"Actual 0\", \"Actual 1\"])\n",
    "plt.xlabel(\"Predicted Labels\")\n",
    "plt.ylabel(\"True Labels\")\n",
    "plt.title(\"Confusion Matrix\")\n",
    "plt.show()"
   ]
  },
  {
   "cell_type": "code",
   "execution_count": 152,
   "id": "6fb296e9",
   "metadata": {},
   "outputs": [
    {
     "name": "stdout",
     "output_type": "stream",
     "text": [
      "Accuracy: 0.962\n",
      "Precision: 0.9819494584837545\n",
      "Recall (Sensitivity): 0.8918032786885246\n",
      "F1 Score: 0.9347079037800687\n"
     ]
    }
   ],
   "source": [
    "accuracy = accuracy_score(y_true_np, y_pred_np)\n",
    "precision = precision_score(y_true_np, y_pred_np)\n",
    "recall = recall_score(y_true_np, y_pred_np)\n",
    "f1 = f1_score(y_true_np, y_pred_np)\n",
    "\n",
    "print(\"Accuracy:\", accuracy)\n",
    "print(\"Precision:\", precision)\n",
    "print(\"Recall (Sensitivity):\", recall)\n",
    "print(\"F1 Score:\", f1)\n",
    "\n",
    "classification_rep = classification_report(y_true_np, y_pred_np)"
   ]
  },
  {
   "cell_type": "code",
   "execution_count": 161,
   "id": "fa84816b",
   "metadata": {
    "scrolled": true
   },
   "outputs": [
    {
     "name": "stdout",
     "output_type": "stream",
     "text": [
      "Classification Report:\n",
      "              precision    recall  f1-score   support\n",
      "\n",
      "         0.0       0.95      0.99      0.97      3475\n",
      "         1.0       0.98      0.89      0.93      1525\n",
      "\n",
      "    accuracy                           0.96      5000\n",
      "   macro avg       0.97      0.94      0.95      5000\n",
      "weighted avg       0.96      0.96      0.96      5000\n",
      "\n"
     ]
    }
   ],
   "source": [
    "print(\"Classification Report:\")\n",
    "print(classification_rep)"
   ]
  },
  {
   "cell_type": "markdown",
   "id": "edcf7b08",
   "metadata": {},
   "source": [
    "- Detection"
   ]
  },
  {
   "cell_type": "code",
   "execution_count": 187,
   "id": "c5c9b058",
   "metadata": {},
   "outputs": [
    {
     "name": "stdout",
     "output_type": "stream",
     "text": [
      "sample:0 | malware detected:yes\n",
      "sample:1 | malware detected:no\n",
      "sample:2 | malware detected:no\n",
      "sample:3 | malware detected:no\n",
      "sample:4 | malware detected:no\n",
      "sample:5 | malware detected:no\n",
      "sample:6 | malware detected:no\n",
      "sample:7 | malware detected:no\n",
      "sample:8 | malware detected:no\n",
      "sample:9 | malware detected:no\n",
      "sample:10 | malware detected:no\n",
      "sample:11 | malware detected:no\n",
      "sample:12 | malware detected:no\n",
      "sample:13 | malware detected:yes\n",
      "sample:14 | malware detected:yes\n",
      "sample:15 | malware detected:yes\n",
      "sample:16 | malware detected:yes\n",
      "sample:17 | malware detected:no\n",
      "sample:18 | malware detected:no\n",
      "sample:19 | malware detected:no\n"
     ]
    }
   ],
   "source": [
    "with torch.no_grad(): \n",
    "    for batch in test_dl:\n",
    "        inputs,target = batch\n",
    "        outputs = model(inputs)\n",
    "        sample_num = 0\n",
    "        for i in outputs.max(axis=1)[1]:\n",
    "            polarity = \"yes\" if i==1 else \"no\"\n",
    "            print(f\"sample:{sample_num} | malware detected:{polarity}\")\n",
    "            sample_num+=1\n",
    "            if sample_num==20:\n",
    "                break"
   ]
  }
 ],
 "metadata": {
  "kernelspec": {
   "display_name": "Python 3 (ipykernel)",
   "language": "python",
   "name": "python3"
  },
  "language_info": {
   "codemirror_mode": {
    "name": "ipython",
    "version": 3
   },
   "file_extension": ".py",
   "mimetype": "text/x-python",
   "name": "python",
   "nbconvert_exporter": "python",
   "pygments_lexer": "ipython3",
   "version": "3.10.0"
  }
 },
 "nbformat": 4,
 "nbformat_minor": 5
}
