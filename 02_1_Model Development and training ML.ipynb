{
 "cells": [
  {
   "cell_type": "markdown",
   "id": "1f8cb828",
   "metadata": {},
   "source": [
    "### Importing required moudules"
   ]
  },
  {
   "cell_type": "code",
   "execution_count": 32,
   "id": "268b3514",
   "metadata": {},
   "outputs": [],
   "source": [
    "#Data preprocessing \n",
    "import numpy as np\n",
    "import pandas as pd\n",
    "from imblearn.combine import SMOTETomek\n",
    "\n",
    "#Data analysis\n",
    "import seaborn as sns\n",
    "import matplotlib.pyplot as plt\n",
    "import plotly.express as px\n",
    "%matplotlib inline\n",
    " \n",
    "#ML algorithms\n",
    "from sklearn.model_selection import train_test_split, StratifiedKFold\n",
    "from sklearn.linear_model import LogisticRegression\n",
    "from sklearn.ensemble import RandomForestClassifier, GradientBoostingClassifier, VotingClassifier\n",
    "from sklearn.metrics import accuracy_score, precision_score, recall_score, f1_score, roc_curve, roc_auc_score, confusion_matrix,classification_report\n",
    "\n",
    "#Extra\n",
    "import os\n",
    "import pickle\n",
    "import warnings\n",
    "warnings.filterwarnings(\"ignore\")"
   ]
  },
  {
   "cell_type": "markdown",
   "id": "44ab2020",
   "metadata": {},
   "source": [
    "### Setting enviornment "
   ]
  },
  {
   "cell_type": "code",
   "execution_count": 2,
   "id": "be93737c",
   "metadata": {},
   "outputs": [],
   "source": [
    "def setEnviornment(seed):\n",
    "    pd.set_option('display.max_columns', None)\n",
    "    pd.set_option('display.width', 1000)\n",
    "    sns.set_style(\"dark\")\n",
    "    np.random.seed(seed)\n",
    "setEnviornment(42)"
   ]
  },
  {
   "cell_type": "markdown",
   "id": "92128ec7",
   "metadata": {},
   "source": [
    "### Loading data"
   ]
  },
  {
   "cell_type": "code",
   "execution_count": 6,
   "id": "b152c51f",
   "metadata": {},
   "outputs": [],
   "source": [
    "file_path = 'C:\\Data\\Study\\Ai_adventures\\Projects\\Deep _Learning\\Android-Malware Detection\\outputs\\processed_data.pkl'\n",
    "with open(file_path, 'rb') as file:\n",
    "    data = pickle.load(file)"
   ]
  },
  {
   "cell_type": "code",
   "execution_count": 7,
   "id": "71f5a597",
   "metadata": {},
   "outputs": [
    {
     "data": {
      "text/plain": [
       "((610492, 78), (610492,))"
      ]
     },
     "execution_count": 7,
     "metadata": {},
     "output_type": "execute_result"
    }
   ],
   "source": [
    "X,y = data[\"features\"], data[\"targets\"]\n",
    "X.shape, y.shape"
   ]
  },
  {
   "cell_type": "markdown",
   "id": "70dfd471",
   "metadata": {},
   "source": [
    "### Splitting data"
   ]
  },
  {
   "cell_type": "code",
   "execution_count": 8,
   "id": "17bc0506",
   "metadata": {},
   "outputs": [],
   "source": [
    "X_train,X_test,y_train,y_test = train_test_split(X,y,test_size=0.3,random_state=42,stratify=y)"
   ]
  },
  {
   "cell_type": "markdown",
   "id": "2dc30b88",
   "metadata": {},
   "source": [
    "### Model training "
   ]
  },
  {
   "cell_type": "markdown",
   "id": "b53202f1",
   "metadata": {},
   "source": [
    "- Batch training "
   ]
  },
  {
   "cell_type": "code",
   "execution_count": 6,
   "id": "daeaa01d",
   "metadata": {},
   "outputs": [],
   "source": [
    "def batchTraining(model,batch_size=30000):\n",
    "    num_batches = len(X_train) // batch_size\n",
    "    scores = []\n",
    "    for i in range(num_batches):\n",
    "        start_index = i * batch_size\n",
    "        end_index = (i + 1) * batch_size\n",
    "        X_batch = X_train.iloc[start_index:end_index]\n",
    "        y_batch = y_train.iloc[start_index:end_index]\n",
    "        model.fit(X_batch, y_batch)\n",
    "        train_accuracy = model.score(X_train, y_train)\n",
    "        test_accuracy = model.score(X_test, y_test)\n",
    "        scores.append(test_accuracy)\n",
    "        print(f\"BATCH[{i+1}]: train score:{np.round(train_accuracy,5)} | test score:{np.round(test_accuracy,5)}\")\n",
    "    print(f\"average_score:{np.mean(scores)}\")"
   ]
  },
  {
   "cell_type": "code",
   "execution_count": 7,
   "id": "abdbdeac",
   "metadata": {
    "scrolled": true
   },
   "outputs": [
    {
     "name": "stdout",
     "output_type": "stream",
     "text": [
      "BATCH[1]: train score:0.89697 | test score:0.89798\n",
      "BATCH[2]: train score:0.89504 | test score:0.89585\n",
      "BATCH[3]: train score:0.89665 | test score:0.8975\n",
      "BATCH[4]: train score:0.89502 | test score:0.89573\n",
      "BATCH[5]: train score:0.89771 | test score:0.89846\n",
      "BATCH[6]: train score:0.89599 | test score:0.89679\n",
      "BATCH[7]: train score:0.89667 | test score:0.89739\n",
      "BATCH[8]: train score:0.89655 | test score:0.89762\n",
      "BATCH[9]: train score:0.89358 | test score:0.89439\n",
      "BATCH[10]: train score:0.8923 | test score:0.89308\n",
      "BATCH[11]: train score:0.89578 | test score:0.89659\n",
      "BATCH[12]: train score:0.89555 | test score:0.89662\n",
      "BATCH[13]: train score:0.89368 | test score:0.89452\n",
      "BATCH[14]: train score:0.89548 | test score:0.89633\n",
      "average_score:0.8963476844643986\n"
     ]
    }
   ],
   "source": [
    "# # Logistic regression model\n",
    "lr = LogisticRegression()\n",
    "batchTraining(lr)"
   ]
  },
  {
   "cell_type": "code",
   "execution_count": 8,
   "id": "52679c8c",
   "metadata": {},
   "outputs": [
    {
     "name": "stdout",
     "output_type": "stream",
     "text": [
      "BATCH[1]: train score:0.99858 | test score:0.9983\n",
      "BATCH[2]: train score:0.99854 | test score:0.99852\n",
      "BATCH[3]: train score:0.99876 | test score:0.99853\n",
      "BATCH[4]: train score:0.99849 | test score:0.9984\n",
      "BATCH[5]: train score:0.99865 | test score:0.9986\n",
      "BATCH[6]: train score:0.99877 | test score:0.99883\n",
      "BATCH[7]: train score:0.99877 | test score:0.99869\n",
      "BATCH[8]: train score:0.99861 | test score:0.99847\n",
      "BATCH[9]: train score:0.99859 | test score:0.99857\n",
      "BATCH[10]: train score:0.99866 | test score:0.9986\n",
      "BATCH[11]: train score:0.99865 | test score:0.99862\n",
      "BATCH[12]: train score:0.99862 | test score:0.99836\n",
      "BATCH[13]: train score:0.99869 | test score:0.99854\n",
      "BATCH[14]: train score:0.99883 | test score:0.99878\n",
      "average_score:0.9985577628085328\n"
     ]
    }
   ],
   "source": [
    "# #Randomforest model\n",
    "rf = RandomForestClassifier()\n",
    "batchTraining(rf)"
   ]
  },
  {
   "cell_type": "code",
   "execution_count": 9,
   "id": "a30061e8",
   "metadata": {},
   "outputs": [
    {
     "name": "stdout",
     "output_type": "stream",
     "text": [
      "BATCH[1]: train score:0.99771 | test score:0.99767\n",
      "BATCH[2]: train score:0.99836 | test score:0.99844\n",
      "BATCH[3]: train score:0.99798 | test score:0.99802\n",
      "BATCH[4]: train score:0.99739 | test score:0.99749\n",
      "BATCH[5]: train score:0.99745 | test score:0.99756\n",
      "BATCH[6]: train score:0.99805 | test score:0.99801\n",
      "BATCH[7]: train score:0.9975 | test score:0.99759\n",
      "BATCH[8]: train score:0.99766 | test score:0.99768\n",
      "BATCH[9]: train score:0.99777 | test score:0.99776\n",
      "BATCH[10]: train score:0.99774 | test score:0.99777\n",
      "BATCH[11]: train score:0.99804 | test score:0.9981\n",
      "BATCH[12]: train score:0.99768 | test score:0.99771\n",
      "BATCH[13]: train score:0.99746 | test score:0.99759\n",
      "BATCH[14]: train score:0.99803 | test score:0.99806\n",
      "average_score:0.9978159739664096\n"
     ]
    }
   ],
   "source": [
    "# #gradient boosting model\n",
    "gb = GradientBoostingClassifier()\n",
    "batchTraining(gb)"
   ]
  },
  {
   "cell_type": "code",
   "execution_count": 10,
   "id": "8bef0e7f",
   "metadata": {},
   "outputs": [
    {
     "data": {
      "text/plain": [
       "VotingClassifier(estimators=[('LogisticRegression', LogisticRegression()),\n",
       "                             ('RandomForest', RandomForestClassifier()),\n",
       "                             ('GradientBoosting',\n",
       "                              GradientBoostingClassifier())])"
      ]
     },
     "execution_count": 10,
     "metadata": {},
     "output_type": "execute_result"
    }
   ],
   "source": [
    "#Votingclassifier\n",
    "vc = VotingClassifier(\n",
    "    estimators=[(\"LogisticRegression\",lr),(\"RandomForest\",rf),(\"GradientBoosting\",gb)],\n",
    "    voting=\"hard\")\n",
    "vc"
   ]
  },
  {
   "cell_type": "code",
   "execution_count": 11,
   "id": "0f239122",
   "metadata": {},
   "outputs": [
    {
     "name": "stdout",
     "output_type": "stream",
     "text": [
      "BATCH[1]: train score:0.99791 | test score:0.99785\n",
      "BATCH[2]: train score:0.99822 | test score:0.9983\n",
      "BATCH[3]: train score:0.99817 | test score:0.99806\n",
      "BATCH[4]: train score:0.99763 | test score:0.99766\n",
      "BATCH[5]: train score:0.99796 | test score:0.99801\n",
      "BATCH[6]: train score:0.99845 | test score:0.99848\n",
      "BATCH[7]: train score:0.99805 | test score:0.99814\n",
      "BATCH[8]: train score:0.99812 | test score:0.99811\n",
      "BATCH[9]: train score:0.99797 | test score:0.99804\n",
      "BATCH[10]: train score:0.99787 | test score:0.99799\n",
      "BATCH[11]: train score:0.99825 | test score:0.99826\n",
      "BATCH[12]: train score:0.99784 | test score:0.9978\n",
      "BATCH[13]: train score:0.99738 | test score:0.99749\n",
      "BATCH[14]: train score:0.9985 | test score:0.9985\n",
      "average_score:0.998049586751074\n"
     ]
    }
   ],
   "source": [
    "batchTraining(vc)"
   ]
  },
  {
   "cell_type": "markdown",
   "id": "da6eb3ad",
   "metadata": {},
   "source": [
    "All model expect logistic regression are giving good results, we will choose voting classifier coz it has all three estimators"
   ]
  },
  {
   "cell_type": "markdown",
   "id": "97b217ba",
   "metadata": {},
   "source": [
    "- Stratified training "
   ]
  },
  {
   "cell_type": "code",
   "execution_count": 13,
   "id": "6e806fdf",
   "metadata": {},
   "outputs": [
    {
     "name": "stdout",
     "output_type": "stream",
     "text": [
      "Fold[1]: train score:0.9998165411119901 | test score:0.8779095099410645\n",
      "Fold[2]: train score:0.999201190951672 | test score:0.998727253964432\n",
      "Fold[3]: train score:0.9991094616829646 | test score:0.9992661644479608\n",
      "Fold[4]: train score:0.9991897247930837 | test score:0.9993120291699632\n",
      "Fold[5]: train score:0.9991362160530042 | test score:0.9995642851409767\n",
      "Fold[6]: train score:0.9991362160530042 | test score:0.9996560145849815\n",
      "Fold[7]: train score:0.9996349939516014 | test score:0.8880786121335122\n",
      "train score:0.9993177635139029 : test score:0.9660734099118417\n"
     ]
    }
   ],
   "source": [
    "strK = StratifiedKFold(7)\n",
    "trainScore, testScore = [],[]\n",
    "fold = 0\n",
    "for train_index,test_index in strK.split(X,y):\n",
    "    fold+=1\n",
    "    X_train,y_train = X.iloc[train_index],y.iloc[train_index]\n",
    "    X_test,y_test = X.iloc[test_index],y.iloc[test_index]\n",
    "    vc.fit(X_train,y_train)\n",
    "    y_pred = vc.predict(X_test)\n",
    "    train_acc = vc.score(X_train,y_train)\n",
    "    test_acc = accuracy_score(y_test,y_pred)\n",
    "    print(f\"Fold[{fold}]: train score:{train_acc} | test score:{test_acc}\")\n",
    "    trainScore.append(train_acc)\n",
    "    testScore.append(test_acc)\n",
    "train_score = np.mean(trainScore)\n",
    "test_score = np.mean(testScore)\n",
    "print(f\"train score:{train_score} : test score:{test_score}\")"
   ]
  },
  {
   "cell_type": "markdown",
   "id": "251003a6",
   "metadata": {},
   "source": [
    "### Saving trained model"
   ]
  },
  {
   "cell_type": "code",
   "execution_count": 17,
   "id": "189d3998",
   "metadata": {},
   "outputs": [],
   "source": [
    "file_path = r'C:\\Data\\Study\\Ai_adventures\\Projects\\Deep _Learning\\Android-Malware Detection\\models\\voting.pkl'\n",
    "with open(file_path, 'wb') as file:\n",
    "    pickle.dump(vc, file)"
   ]
  },
  {
   "cell_type": "markdown",
   "id": "ddc3cbac",
   "metadata": {},
   "source": [
    "### Model evaluation "
   ]
  },
  {
   "cell_type": "code",
   "execution_count": 3,
   "id": "571e7730",
   "metadata": {},
   "outputs": [],
   "source": [
    "file_path = r'C:\\Data\\Study\\Ai_adventures\\Projects\\Deep _Learning\\Android-Malware Detection\\models\\voting.pkl'\n",
    "with open(file_path, 'rb') as file:\n",
    "    vc_model = pickle.load(file)"
   ]
  },
  {
   "cell_type": "code",
   "execution_count": 4,
   "id": "47be81e3",
   "metadata": {},
   "outputs": [
    {
     "data": {
      "text/plain": [
       "VotingClassifier(estimators=[('LogisticRegression', LogisticRegression()),\n",
       "                             ('RandomForest', RandomForestClassifier()),\n",
       "                             ('GradientBoosting',\n",
       "                              GradientBoostingClassifier())])"
      ]
     },
     "execution_count": 4,
     "metadata": {},
     "output_type": "execute_result"
    }
   ],
   "source": [
    "vc_model"
   ]
  },
  {
   "cell_type": "code",
   "execution_count": 10,
   "id": "9ed8da82",
   "metadata": {},
   "outputs": [],
   "source": [
    "#making predictions\n",
    "y_pred = vc_model.predict(X_test)"
   ]
  },
  {
   "cell_type": "code",
   "execution_count": 25,
   "id": "7b1d7850",
   "metadata": {},
   "outputs": [],
   "source": [
    "# Evaluation metrics\n",
    "accuracy = accuracy_score(y_test, y_pred)\n",
    "precision = precision_score(y_test, y_pred,pos_label='BENIGN')\n",
    "recall = recall_score(y_test, y_pred,pos_label='BENIGN')\n",
    "f1 = f1_score(y_test, y_pred,pos_label='BENIGN')"
   ]
  },
  {
   "cell_type": "code",
   "execution_count": 29,
   "id": "b4c7c895",
   "metadata": {},
   "outputs": [
    {
     "data": {
      "image/png": "[encoded data removed]",
      "text/plain": [
       "<Figure size 432x288 with 2 Axes>"
      ]
     },
     "metadata": {
      "needs_background": "light"
     },
     "output_type": "display_data"
    }
   ],
   "source": [
    "# Confusion matrix\n",
    "cm = confusion_matrix(y_test, y_pred)\n",
    "\n",
    "# Plot confusion matrix\n",
    "plt.figure(figsize=(6, 4))\n",
    "sns.heatmap(cm, annot=True, cmap='Blues', fmt='g')\n",
    "plt.xlabel('Predicted')\n",
    "plt.ylabel('True')\n",
    "plt.title('Confusion Matrix')\n",
    "plt.show()"
   ]
  },
  {
   "cell_type": "code",
   "execution_count": 30,
   "id": "7702a137",
   "metadata": {},
   "outputs": [
    {
     "name": "stdout",
     "output_type": "stream",
     "text": [
      "Accuracy: 0.9842859326883177\n",
      "Precision: 0.977580018298834\n",
      "Recall: 0.9999120147815167\n",
      "F1 Score: 0.9886199179115691\n"
     ]
    }
   ],
   "source": [
    "print(\"Accuracy:\", accuracy)\n",
    "print(\"Precision:\", precision)\n",
    "print(\"Recall:\", recall)\n",
    "print(\"F1 Score:\", f1)"
   ]
  },
  {
   "cell_type": "code",
   "execution_count": 35,
   "id": "92499ccf",
   "metadata": {},
   "outputs": [
    {
     "name": "stdout",
     "output_type": "stream",
     "text": [
      "Classification Report:\n",
      "              precision    recall  f1-score   support\n",
      "\n",
      "      BENIGN       0.98      1.00      0.99    125021\n",
      "     MALWARE       1.00      0.95      0.97     58127\n",
      "\n",
      "    accuracy                           0.98    183148\n",
      "   macro avg       0.99      0.98      0.98    183148\n",
      "weighted avg       0.98      0.98      0.98    183148\n",
      "\n"
     ]
    }
   ],
   "source": [
    "class_report = classification_report(y_test, y_pred)\n",
    "print(\"Classification Report:\")\n",
    "print(class_report)"
   ]
  },
  {
   "cell_type": "code",
   "execution_count": null,
   "id": "572fdaeb",
   "metadata": {},
   "outputs": [],
   "source": []
  }
 ],
 "metadata": {
  "kernelspec": {
   "display_name": "Python 3 (ipykernel)",
   "language": "python",
   "name": "python3"
  },
  "language_info": {
   "codemirror_mode": {
    "name": "ipython",
    "version": 3
   },
   "file_extension": ".py",
   "mimetype": "text/x-python",
   "name": "python",
   "nbconvert_exporter": "python",
   "pygments_lexer": "ipython3",
   "version": "3.10.0"
  }
 },
 "nbformat": 4,
 "nbformat_minor": 5
}
