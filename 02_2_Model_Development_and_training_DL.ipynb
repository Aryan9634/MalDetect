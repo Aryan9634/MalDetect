{
 "cells": [
  {
   "cell_type": "markdown",
   "id": "8eb8295c",
   "metadata": {},
   "source": [
    "### Importing required modules"
   ]
  },
  {
   "cell_type": "code",
   "execution_count": 119,
   "id": "805c081b",
   "metadata": {},
   "outputs": [],
   "source": [
    "import numpy as np\n",
    "import matplotlib.pyplot as plt\n",
    "\n",
    "import torch\n",
    "from torch.utils.data import TensorDataset,random_split,DataLoader\n",
    "import torch.nn.functional as F\n",
    "import torch.nn as nn\n",
    "\n",
    "import pickle"
   ]
  },
  {
   "cell_type": "markdown",
   "id": "a745e1a9",
   "metadata": {},
   "source": [
    "### Loading data"
   ]
  },
  {
   "cell_type": "code",
   "execution_count": 120,
   "id": "40aa4158",
   "metadata": {},
   "outputs": [],
   "source": [
    "file_path = 'C:\\Data\\Study\\Ai_adventures\\Projects\\Deep _Learning\\Android-Malware Detection\\outputs\\processed_data.pkl'\n",
    "with open(file_path, 'rb') as file:\n",
    "    data = pickle.load(file)"
   ]
  },
  {
   "cell_type": "code",
   "execution_count": 121,
   "id": "e3c4c45a",
   "metadata": {},
   "outputs": [],
   "source": [
    "X = data[\"features\"]\n",
    "y = data[\"targets\"]"
   ]
  },
  {
   "cell_type": "markdown",
   "id": "dc7ff7d8",
   "metadata": {},
   "source": [
    "- Creating Tesnor dataset"
   ]
  },
  {
   "cell_type": "code",
   "execution_count": 122,
   "id": "e1ac3d3d",
   "metadata": {},
   "outputs": [],
   "source": [
    "def Dataset(X,y):\n",
    "    features = X.to_numpy()\n",
    "    labels = y.to_numpy()\n",
    "\n",
    "    features_tensor = torch.tensor(features)\n",
    "    labels_numeric = np.where(labels==\"MALWARE\",1,0).reshape(-1,1)\n",
    "    labels_tensor = torch.tensor(labels_numeric,dtype=torch.float32)\n",
    "\n",
    "    data = TensorDataset(features_tensor,labels_tensor)\n",
    "    return data"
   ]
  },
  {
   "cell_type": "code",
   "execution_count": 123,
   "id": "f49c8d61",
   "metadata": {},
   "outputs": [
    {
     "data": {
      "text/plain": [
       "<torch.utils.data.dataset.TensorDataset at 0x21f57f5bcd0>"
      ]
     },
     "execution_count": 123,
     "metadata": {},
     "output_type": "execute_result"
    }
   ],
   "source": [
    "data = Dataset(X,y)\n",
    "data"
   ]
  },
  {
   "cell_type": "markdown",
   "id": "b17c232b",
   "metadata": {},
   "source": [
    "- Splitting data"
   ]
  },
  {
   "cell_type": "code",
   "execution_count": 124,
   "id": "67e90ba0",
   "metadata": {},
   "outputs": [],
   "source": [
    "train_ds,val_ds = random_split(data,[len(data)-10000,10000])"
   ]
  },
  {
   "cell_type": "markdown",
   "id": "536a8ad1",
   "metadata": {},
   "source": [
    "- Data Loaders"
   ]
  },
  {
   "cell_type": "code",
   "execution_count": 125,
   "id": "4319c8e3",
   "metadata": {},
   "outputs": [],
   "source": [
    "batch_size = 10000\n",
    "train_dl = DataLoader(train_ds,batch_size,shuffle=True)\n",
    "val_dl = DataLoader(val_ds,batch_size)"
   ]
  },
  {
   "cell_type": "code",
   "execution_count": 126,
   "id": "21c83898",
   "metadata": {},
   "outputs": [
    {
     "name": "stdout",
     "output_type": "stream",
     "text": [
      "tensor([[5.3000e+01, 2.4334e+04, 1.0000e+00,  ..., 0.0000e+00, 0.0000e+00,\n",
      "         0.0000e+00],\n",
      "        [8.0000e+01, 8.5179e+07, 7.0000e+00,  ..., 0.0000e+00, 8.5000e+07,\n",
      "         8.5000e+07],\n",
      "        [5.3000e+01, 5.0203e+04, 4.0000e+00,  ..., 0.0000e+00, 0.0000e+00,\n",
      "         0.0000e+00],\n",
      "        ...,\n",
      "        [5.3000e+01, 2.3782e+04, 1.0000e+00,  ..., 0.0000e+00, 0.0000e+00,\n",
      "         0.0000e+00],\n",
      "        [4.4300e+02, 5.5312e+05, 6.0000e+00,  ..., 0.0000e+00, 0.0000e+00,\n",
      "         0.0000e+00],\n",
      "        [8.0000e+01, 4.3190e+04, 9.0000e+00,  ..., 0.0000e+00, 0.0000e+00,\n",
      "         0.0000e+00]], dtype=torch.float64) tensor([[0.],\n",
      "        [1.],\n",
      "        [0.],\n",
      "        ...,\n",
      "        [0.],\n",
      "        [0.],\n",
      "        [0.]])\n"
     ]
    }
   ],
   "source": [
    "for xb,yb in train_dl:\n",
    "    print(xb,yb)\n",
    "    break"
   ]
  },
  {
   "cell_type": "code",
   "execution_count": 127,
   "id": "037e6517",
   "metadata": {},
   "outputs": [
    {
     "name": "stdout",
     "output_type": "stream",
     "text": [
      "torch.Size([10000, 78]) tensor([[0.],\n",
      "        [0.],\n",
      "        [0.],\n",
      "        ...,\n",
      "        [1.],\n",
      "        [0.],\n",
      "        [0.]])\n"
     ]
    }
   ],
   "source": [
    "for batch in train_dl:\n",
    "    features,labels = batch\n",
    "    print(features.shape,labels)\n",
    "    break"
   ]
  },
  {
   "cell_type": "markdown",
   "id": "66ada760",
   "metadata": {},
   "source": [
    "- Model building "
   ]
  },
  {
   "cell_type": "code",
   "execution_count": 128,
   "id": "e1f97ce8",
   "metadata": {},
   "outputs": [],
   "source": [
    "def accuracy(outputs,actuals):\n",
    "    _,preds = torch.max(outputs,dim=1)\n",
    "    acc = torch.tensor(torch.sum(preds==actuals).item()/len(preds))\n",
    "    return acc\n",
    "\n",
    "class LogisticRegression(nn.Module):\n",
    "    def training_step(self,batch):\n",
    "        features,labels = batch\n",
    "        outputs = self(features)\n",
    "        loss = F.cross_entropy(outputs,labels.squeeze().long())\n",
    "        return loss\n",
    "    def validation_step(self,batch):\n",
    "        features,labels = batch\n",
    "        outputs = self(features)\n",
    "        loss = F.cross_entropy(outputs,labels.squeeze().long())\n",
    "        acc = accuracy(outputs,labels.squeeze().long())\n",
    "        return {\"val loss\":loss.detach(),\"val acc\":acc}\n",
    "    def validation_epoch_end(self,outputs):\n",
    "        batch_loss = [x[\"val loss\"] for x in outputs]\n",
    "        epoch_loss = torch.stack(batch_loss).mean()\n",
    "        batch_acc = [x[\"val acc\"] for x in outputs]\n",
    "        epoch_acc = torch.stack(batch_acc).mean()\n",
    "        return {\"val loss\":epoch_loss.item(),\"val acc\":epoch_acc.item()}\n",
    "    def epoch_end(self, epoch_num, results, fit_one_cycle=False):\n",
    "        if fit_one_cycle:\n",
    "            print(\"Epoch [{}], last_lr: {:.5f}, train loss: {:.4f}, val loss: {:.4f}, val acc: {:.4f}\".format(\n",
    "                epoch_num, results['lrs'][-1], results['train loss'], results['val loss'], results['val acc']))\n",
    "        else:\n",
    "            print(\"Epoch[{}] -> TRAIN LOSS : {:.4f} | VALIDATION LOSS : {:.4f} | VALIDATION ACC : {:.4f}\".format(\n",
    "                epoch_num, results[\"train loss\"], results[\"val loss\"], results[\"val acc\"]))\n",
    "    @torch.no_grad()\n",
    "    def evaluate(self,val_dl):\n",
    "        self.eval()\n",
    "        outputs = [self.validation_step(batch) for batch in val_dl]\n",
    "        return self.validation_epoch_end(outputs)"
   ]
  },
  {
   "cell_type": "code",
   "execution_count": 129,
   "id": "4c13df5a",
   "metadata": {},
   "outputs": [],
   "source": [
    "def linear_block(in_channels, out_channels):\n",
    "    layers = [\n",
    "        nn.Linear(in_channels, out_channels),\n",
    "        nn.BatchNorm1d(out_channels),\n",
    "        nn.ReLU(inplace=True)\n",
    "    ]\n",
    "    return nn.Sequential(*layers)\n",
    "\n",
    "class NetworkArchitecture(LogisticRegression):\n",
    "    def __init__(self):\n",
    "        super().__init__()\n",
    "        self.linear1 = linear_block(len(train_ds[0][0]), 50)\n",
    "        self.linear2 = linear_block(50, 25)\n",
    "        self.linear3 = linear_block(25, 10)\n",
    "        self.classifier = nn.Linear(10, 2)\n",
    "    \n",
    "    def forward(self, xb):\n",
    "        out = self.linear1(xb.float())\n",
    "        out = self.linear2(out)\n",
    "        out = self.linear3(out)\n",
    "        out = self.classifier(out)\n",
    "        return out   "
   ]
  },
  {
   "cell_type": "code",
   "execution_count": 130,
   "id": "0f28e372",
   "metadata": {},
   "outputs": [
    {
     "data": {
      "text/plain": [
       "NetworkArchitecture(\n",
       "  (linear1): Sequential(\n",
       "    (0): Linear(in_features=78, out_features=50, bias=True)\n",
       "    (1): BatchNorm1d(50, eps=1e-05, momentum=0.1, affine=True, track_running_stats=True)\n",
       "    (2): ReLU(inplace=True)\n",
       "  )\n",
       "  (linear2): Sequential(\n",
       "    (0): Linear(in_features=50, out_features=25, bias=True)\n",
       "    (1): BatchNorm1d(25, eps=1e-05, momentum=0.1, affine=True, track_running_stats=True)\n",
       "    (2): ReLU(inplace=True)\n",
       "  )\n",
       "  (linear3): Sequential(\n",
       "    (0): Linear(in_features=25, out_features=10, bias=True)\n",
       "    (1): BatchNorm1d(10, eps=1e-05, momentum=0.1, affine=True, track_running_stats=True)\n",
       "    (2): ReLU(inplace=True)\n",
       "  )\n",
       "  (classifier): Linear(in_features=10, out_features=2, bias=True)\n",
       ")"
      ]
     },
     "execution_count": 130,
     "metadata": {},
     "output_type": "execute_result"
    }
   ],
   "source": [
    "model_f = NetworkArchitecture()\n",
    "model_foc = NetworkArchitecture()\n",
    "model_f"
   ]
  },
  {
   "cell_type": "markdown",
   "id": "9d17f6c7",
   "metadata": {},
   "source": [
    "- Training using fit"
   ]
  },
  {
   "cell_type": "code",
   "execution_count": 131,
   "id": "3c622a16",
   "metadata": {},
   "outputs": [],
   "source": [
    "def fit(epoch_num,lr,model,train_dl,val_dl,optim_func):\n",
    "    optimizer = optim_func(model.parameters(),lr)\n",
    "    history = []\n",
    "    for epoch in range(epoch_num):\n",
    "        train_losses = []\n",
    "        for batch in train_dl:\n",
    "            loss = model.training_step(batch)\n",
    "            train_losses.append(loss)\n",
    "            loss.backward()\n",
    "            optimizer.step()\n",
    "            optimizer.zero_grad()\n",
    "        results = model.evaluate(val_dl)\n",
    "        results[\"train loss\"] = torch.stack(train_losses).mean()\n",
    "        model.epoch_end(epoch,results)\n",
    "        history.append(results)\n",
    "    return history"
   ]
  },
  {
   "cell_type": "code",
   "execution_count": 132,
   "id": "c9166393",
   "metadata": {},
   "outputs": [
    {
     "data": {
      "text/plain": [
       "{'val loss': 265554.6875, 'val acc': 0.3012999892234802}"
      ]
     },
     "execution_count": 132,
     "metadata": {},
     "output_type": "execute_result"
    }
   ],
   "source": [
    "model_f.evaluate(val_dl)"
   ]
  },
  {
   "cell_type": "code",
   "execution_count": 133,
   "id": "b700c017",
   "metadata": {},
   "outputs": [],
   "source": [
    "num_epochs = 15\n",
    "opt_func = torch.optim.Adam\n",
    "lr = 0.001"
   ]
  },
  {
   "cell_type": "code",
   "execution_count": 134,
   "id": "35a2a59a",
   "metadata": {
    "scrolled": true
   },
   "outputs": [
    {
     "name": "stdout",
     "output_type": "stream",
     "text": [
      "Epoch[0] -> TRAIN LOSS : 19631.1406 | VALIDATION LOSS : 161.4915 | VALIDATION ACC : 0.6809\n",
      "Epoch[1] -> TRAIN LOSS : 122.0913 | VALIDATION LOSS : 18.5089 | VALIDATION ACC : 0.6622\n",
      "Epoch[2] -> TRAIN LOSS : 78.4797 | VALIDATION LOSS : 1.5896 | VALIDATION ACC : 0.6776\n",
      "Epoch[3] -> TRAIN LOSS : 21.6174 | VALIDATION LOSS : 2.6711 | VALIDATION ACC : 0.6818\n",
      "Epoch[4] -> TRAIN LOSS : 22.2341 | VALIDATION LOSS : 0.8661 | VALIDATION ACC : 0.6752\n",
      "Epoch[5] -> TRAIN LOSS : 15.4082 | VALIDATION LOSS : 1.4194 | VALIDATION ACC : 0.6827\n",
      "Epoch[6] -> TRAIN LOSS : 15.2598 | VALIDATION LOSS : 1.0542 | VALIDATION ACC : 0.6830\n",
      "Epoch[7] -> TRAIN LOSS : 31.9850 | VALIDATION LOSS : 1.3621 | VALIDATION ACC : 0.6828\n",
      "Epoch[8] -> TRAIN LOSS : 13.6224 | VALIDATION LOSS : 0.7875 | VALIDATION ACC : 0.6816\n",
      "Epoch[9] -> TRAIN LOSS : 21.0487 | VALIDATION LOSS : 2.2339 | VALIDATION ACC : 0.6830\n",
      "Epoch[10] -> TRAIN LOSS : 8.8901 | VALIDATION LOSS : 0.6735 | VALIDATION ACC : 0.6796\n",
      "Epoch[11] -> TRAIN LOSS : 3.1922 | VALIDATION LOSS : 0.6415 | VALIDATION ACC : 0.7328\n",
      "Epoch[12] -> TRAIN LOSS : 1.5276 | VALIDATION LOSS : 0.7089 | VALIDATION ACC : 0.7341\n",
      "Epoch[13] -> TRAIN LOSS : 3.4411 | VALIDATION LOSS : 0.6454 | VALIDATION ACC : 0.7330\n",
      "Epoch[14] -> TRAIN LOSS : 1.6303 | VALIDATION LOSS : 0.6874 | VALIDATION ACC : 0.7354\n"
     ]
    }
   ],
   "source": [
    "history = fit(num_epochs, lr, model_f, train_dl, val_dl, opt_func)"
   ]
  },
  {
   "cell_type": "code",
   "execution_count": 135,
   "id": "621a6062",
   "metadata": {},
   "outputs": [],
   "source": [
    "def plot_accuracies(history):\n",
    "    accuracies = [x['val acc'] for x in history]\n",
    "    plt.plot(accuracies, '-x')\n",
    "    plt.xlabel('epoch')\n",
    "    plt.ylabel('accuracy')\n",
    "    plt.title('Accuracy vs. No. of epochs');"
   ]
  },
  {
   "cell_type": "code",
   "execution_count": 136,
   "id": "dba6ea02",
   "metadata": {},
   "outputs": [
    {
     "data": {
      "image/png": "[encoded data removed]",
      "text/plain": [
       "<Figure size 432x288 with 1 Axes>"
      ]
     },
     "metadata": {
      "needs_background": "light"
     },
     "output_type": "display_data"
    }
   ],
   "source": [
    "plot_accuracies(history)"
   ]
  },
  {
   "cell_type": "code",
   "execution_count": 137,
   "id": "b43f6d7d",
   "metadata": {},
   "outputs": [],
   "source": [
    "def plot_losses(history):\n",
    "    train_losses = [x.get('train loss').detach().numpy() for x in history]\n",
    "    val_losses = [x['val loss'].detach().numpy() if isinstance(x['val loss'], torch.Tensor) else x['val loss'] for x in history]\n",
    "    plt.plot(train_losses, '-bx')\n",
    "    plt.plot(val_losses, '-rx')\n",
    "    plt.xlabel('epoch')\n",
    "    plt.ylabel('loss')\n",
    "    plt.legend(['Training', 'Validation'])\n",
    "    plt.title('Loss vs. No. of epochs')\n",
    "    plt.show()"
   ]
  },
  {
   "cell_type": "code",
   "execution_count": 138,
   "id": "cf4a8ca0",
   "metadata": {
    "scrolled": true
   },
   "outputs": [
    {
     "data": {
      "image/png": "[encoded data removed]",
      "text/plain": [
       "<Figure size 432x288 with 1 Axes>"
      ]
     },
     "metadata": {
      "needs_background": "light"
     },
     "output_type": "display_data"
    }
   ],
   "source": [
    "plot_losses(history)"
   ]
  },
  {
   "cell_type": "markdown",
   "id": "8dbcf971",
   "metadata": {},
   "source": [
    "- Training using fit one cycle"
   ]
  },
  {
   "cell_type": "code",
   "execution_count": 139,
   "id": "2b8b1bac",
   "metadata": {},
   "outputs": [],
   "source": [
    "def get_lr(optimizer):\n",
    "    for param_group in optimizer.param_groups:\n",
    "        return param_group['lr']\n",
    "\n",
    "def fit_one_cycle(epochs, max_lr, model, train_loader, val_loader, \n",
    "                  weight_decay=0, grad_clip=None, opt_func=torch.optim.SGD):\n",
    "    torch.cuda.empty_cache()\n",
    "    history = []\n",
    "    \n",
    "    optimizer = opt_func(model.parameters(), max_lr, weight_decay=weight_decay)\n",
    "\n",
    "    sched = torch.optim.lr_scheduler.OneCycleLR(optimizer, max_lr, epochs=epochs, \n",
    "                                                steps_per_epoch=len(train_loader))\n",
    "    \n",
    "    for epoch in range(epochs): \n",
    "        model.train()\n",
    "        train_losses = []\n",
    "        lrs = []\n",
    "        for batch in train_loader:\n",
    "            loss = model.training_step(batch)\n",
    "            train_losses.append(loss)\n",
    "            loss.backward()\n",
    "            if grad_clip: \n",
    "                nn.utils.clip_grad_value_(model.parameters(), grad_clip)\n",
    "            optimizer.step()\n",
    "            optimizer.zero_grad()\n",
    "            lrs.append(get_lr(optimizer))\n",
    "            sched.step()\n",
    "        result = model.evaluate(val_loader)\n",
    "        result['train loss'] = torch.stack(train_losses).mean().item()\n",
    "        result['lrs'] = lrs\n",
    "        model.epoch_end(epoch, result)\n",
    "        history.append(result)\n",
    "    return history"
   ]
  },
  {
   "cell_type": "code",
   "execution_count": 140,
   "id": "8bd6f806",
   "metadata": {},
   "outputs": [
    {
     "data": {
      "text/plain": [
       "[{'val loss': 102478.1875, 'val acc': 0.3165999948978424}]"
      ]
     },
     "execution_count": 140,
     "metadata": {},
     "output_type": "execute_result"
    }
   ],
   "source": [
    "history_foc = [model_foc.evaluate(val_dl)]\n",
    "history_foc"
   ]
  },
  {
   "cell_type": "code",
   "execution_count": 141,
   "id": "3c64e246",
   "metadata": {},
   "outputs": [],
   "source": [
    "epochs = 15\n",
    "max_lr = 0.01\n",
    "grad_clip = 0.1\n",
    "weight_decay = 1e-4\n",
    "opt_func = torch.optim.Adam"
   ]
  },
  {
   "cell_type": "code",
   "execution_count": 142,
   "id": "0a78fc89",
   "metadata": {},
   "outputs": [
    {
     "name": "stdout",
     "output_type": "stream",
     "text": [
      "Epoch[0] -> TRAIN LOSS : 0.4786 | VALIDATION LOSS : 0.3848 | VALIDATION ACC : 0.9136\n",
      "Epoch[1] -> TRAIN LOSS : 0.2991 | VALIDATION LOSS : 0.2256 | VALIDATION ACC : 0.9494\n",
      "Epoch[2] -> TRAIN LOSS : 0.1663 | VALIDATION LOSS : 0.1587 | VALIDATION ACC : 0.9544\n",
      "Epoch[3] -> TRAIN LOSS : 0.1595 | VALIDATION LOSS : 0.1741 | VALIDATION ACC : 0.9508\n",
      "Epoch[4] -> TRAIN LOSS : 0.1522 | VALIDATION LOSS : 0.1809 | VALIDATION ACC : 0.9536\n",
      "Epoch[5] -> TRAIN LOSS : 0.1531 | VALIDATION LOSS : 0.1472 | VALIDATION ACC : 0.9582\n",
      "Epoch[6] -> TRAIN LOSS : 0.1433 | VALIDATION LOSS : 0.1686 | VALIDATION ACC : 0.9558\n",
      "Epoch[7] -> TRAIN LOSS : 0.1438 | VALIDATION LOSS : 0.1607 | VALIDATION ACC : 0.9549\n",
      "Epoch[8] -> TRAIN LOSS : 0.1406 | VALIDATION LOSS : 0.1332 | VALIDATION ACC : 0.9585\n",
      "Epoch[9] -> TRAIN LOSS : 0.1357 | VALIDATION LOSS : 0.1381 | VALIDATION ACC : 0.9573\n",
      "Epoch[10] -> TRAIN LOSS : 0.1339 | VALIDATION LOSS : 0.1282 | VALIDATION ACC : 0.9593\n",
      "Epoch[11] -> TRAIN LOSS : 0.1260 | VALIDATION LOSS : 0.1212 | VALIDATION ACC : 0.9602\n",
      "Epoch[12] -> TRAIN LOSS : 0.1193 | VALIDATION LOSS : 0.1478 | VALIDATION ACC : 0.9613\n",
      "Epoch[13] -> TRAIN LOSS : 0.1128 | VALIDATION LOSS : 0.1452 | VALIDATION ACC : 0.9614\n",
      "Epoch[14] -> TRAIN LOSS : 0.1113 | VALIDATION LOSS : 0.1395 | VALIDATION ACC : 0.9615\n",
      "CPU times: total: 5min 12s\n",
      "Wall time: 2min 20s\n"
     ]
    }
   ],
   "source": [
    "%%time\n",
    "history_foc += fit_one_cycle(epochs, max_lr, model_foc,\n",
    "                         train_dl, val_dl, \n",
    "                         grad_clip = grad_clip, \n",
    "                         weight_decay = weight_decay, \n",
    "                         opt_func = opt_func)"
   ]
  },
  {
   "cell_type": "code",
   "execution_count": 143,
   "id": "9b8bf925",
   "metadata": {},
   "outputs": [],
   "source": [
    "def plot_accuracies(history):\n",
    "    accuracies = [x['val acc'] for x in history]\n",
    "    plt.plot(accuracies, '-x')\n",
    "    plt.xlabel('epoch')\n",
    "    plt.ylabel('accuracy')\n",
    "    plt.title('Accuracy vs. No. of epochs');"
   ]
  },
  {
   "cell_type": "code",
   "execution_count": 144,
   "id": "2f1e492c",
   "metadata": {},
   "outputs": [
    {
     "data": {
      "image/png": "[encoded data removed]",
      "text/plain": [
       "<Figure size 432x288 with 1 Axes>"
      ]
     },
     "metadata": {
      "needs_background": "light"
     },
     "output_type": "display_data"
    }
   ],
   "source": [
    "plot_accuracies(history_foc)"
   ]
  },
  {
   "cell_type": "code",
   "execution_count": 145,
   "id": "e03be887",
   "metadata": {},
   "outputs": [],
   "source": [
    "def plot_losses(history):\n",
    "    train_losses = [x.get('train loss') for x in history]\n",
    "    val_losses = [x['val loss'] for x in history]\n",
    "    plt.plot(train_losses, '-bx')\n",
    "    plt.plot(val_losses, '-rx')\n",
    "    plt.xlabel('epoch')\n",
    "    plt.ylabel('loss')\n",
    "    plt.legend(['Training', 'Validation'])\n",
    "    plt.title('Loss vs. No. of epochs');"
   ]
  },
  {
   "cell_type": "code",
   "execution_count": 146,
   "id": "e4d219e6",
   "metadata": {},
   "outputs": [
    {
     "data": {
      "image/png": "[encoded data removed]",
      "text/plain": [
       "<Figure size 432x288 with 1 Axes>"
      ]
     },
     "metadata": {
      "needs_background": "light"
     },
     "output_type": "display_data"
    }
   ],
   "source": [
    "plot_losses(history_foc)"
   ]
  },
  {
   "cell_type": "code",
   "execution_count": 147,
   "id": "e68260a1",
   "metadata": {},
   "outputs": [],
   "source": [
    "def plot_lrs(history):\n",
    "    lrs = np.concatenate([x.get('lrs', []) for x in history])\n",
    "    plt.plot(lrs)\n",
    "    plt.xlabel('Batch no.')\n",
    "    plt.ylabel('Learning rate')\n",
    "    plt.title('Learning Rate vs. Batch no.');"
   ]
  },
  {
   "cell_type": "code",
   "execution_count": 148,
   "id": "812740c1",
   "metadata": {},
   "outputs": [
    {
     "data": {
      "image/png": "[encoded data removed]",
      "text/plain": [
       "<Figure size 432x288 with 1 Axes>"
      ]
     },
     "metadata": {
      "needs_background": "light"
     },
     "output_type": "display_data"
    }
   ],
   "source": [
    "plot_lrs(history_foc)"
   ]
  },
  {
   "cell_type": "markdown",
   "id": "2cc351a4",
   "metadata": {},
   "source": [
    "- Saving the w&b"
   ]
  },
  {
   "cell_type": "code",
   "execution_count": 149,
   "id": "d062587c",
   "metadata": {},
   "outputs": [],
   "source": [
    "folder_path = 'C:/Data/Study/Ai_adventures/Projects/Deep _Learning/Android-Malware Detection/models/'\n",
    "torch.save(model_foc.state_dict(), folder_path + 'model_weights.pth')"
   ]
  }
 ],
 "metadata": {
  "kernelspec": {
   "display_name": "Python 3 (ipykernel)",
   "language": "python",
   "name": "python3"
  },
  "language_info": {
   "codemirror_mode": {
    "name": "ipython",
    "version": 3
   },
   "file_extension": ".py",
   "mimetype": "text/x-python",
   "name": "python",
   "nbconvert_exporter": "python",
   "pygments_lexer": "ipython3",
   "version": "3.10.0"
  }
 },
 "nbformat": 4,
 "nbformat_minor": 5
}
